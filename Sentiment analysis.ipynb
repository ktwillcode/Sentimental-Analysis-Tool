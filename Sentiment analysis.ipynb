{
 "cells": [
  {
   "cell_type": "code",
   "execution_count": null,
   "metadata": {},
   "outputs": [],
   "source": [
    "pip install openai"
   ]
  },
  {
   "cell_type": "code",
   "execution_count": null,
   "metadata": {},
   "outputs": [],
   "source": [
    "import os\n",
    "from openai import OpenAI\n",
    "\n",
    "\n",
    "api_key = \"Add API key\"\n",
    "\n",
    "client = OpenAI(api_key=api_key)\n",
    "\n",
    "def sentiment_a(review):\n",
    "    response = client.chat.completions.create(\n",
    "        model=\"gpt-3.5-turbo\",      #You can use gpt-4 here also\n",
    "        messages=[\n",
    "            {\"role\": \"system\", \"content\": \"You are a sentiment analysis assistant.\"},\n",
    "            {\"role\": \"user\", \"content\": f\"Analyze the sentiment of the following product review:\\n\\n{review}\"}\n",
    "        ]\n",
    "    )\n",
    "\n",
    "    sentiment = response.choices[0].message.content.strip()\n",
    "    return sentiment\n",
    "\n",
    "# Read reviews from the input file\n",
    "with open(r\"/content/sample_data/reviews.txt\", \"r\", encoding=\"utf-8\") as file: \n",
    "    reviews = file.readlines()\n",
    "\n",
    "# Analyze sentiment for each review and write the results to the output file\n",
    "with open(\"sentiment_analysis.txt\", \"w\", encoding=\"utf-8\") as file:\n",
    "    for review in reviews:\n",
    "        sentiment = sentiment_a(review)\n",
    "        file.write(f\"Review: {review.strip()}\\nSentiment: {sentiment}\\n\\n\")\n",
    "\n",
    "print(\"Sentiment analysis completed. Results written to sentiment_analysis.txt\")"
   ]
  }
 ],
 "metadata": {
  "kernelspec": {
   "display_name": "Python 3",
   "language": "python",
   "name": "python3"
  },
  "language_info": {
   "codemirror_mode": {
    "name": "ipython",
    "version": 3
   },
   "file_extension": ".py",
   "mimetype": "text/x-python",
   "name": "python",
   "nbconvert_exporter": "python",
   "pygments_lexer": "ipython3",
   "version": "3.10.1"
  }
 },
 "nbformat": 4,
 "nbformat_minor": 2
}
